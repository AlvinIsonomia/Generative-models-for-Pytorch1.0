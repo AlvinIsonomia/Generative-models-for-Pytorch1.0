{
 "cells": [
  {
   "cell_type": "markdown",
   "metadata": {},
   "source": [
    "# Import Necessary Packages"
   ]
  },
  {
   "cell_type": "code",
   "execution_count": 1,
   "metadata": {},
   "outputs": [
    {
     "name": "stdout",
     "output_type": "stream",
     "text": [
      "1.7.0\n",
      "True\n"
     ]
    }
   ],
   "source": [
    "import os\n",
    "os.environ[\"CUDA_VISIBLE_DEVICES\"] = \"5,6,7\"\n",
    "\n",
    "import torch\n",
    "import torch.nn as nn\n",
    "\n",
    "import torchvision\n",
    "from torchvision import datasets\n",
    "from torchvision import transforms\n",
    "from torchvision.utils import save_image \n",
    "\n",
    "from tqdm import tqdm\n",
    "\n",
    "# Pytorch Version\n",
    "print(torch.__version__)\n",
    "print(torch.cuda.is_available())"
   ]
  },
  {
   "cell_type": "markdown",
   "metadata": {},
   "source": [
    "# Hyper Parameters"
   ]
  },
  {
   "cell_type": "code",
   "execution_count": 2,
   "metadata": {},
   "outputs": [],
   "source": [
    "batch_size = 128\n",
    "num_epoch = 200\n",
    "z_dimension = 100 # size of input noise\n",
    "lr_G = 1e-4\n",
    "lr_D = 1e-4 # leanring rate of Generator and Discriminator\n"
   ]
  },
  {
   "cell_type": "markdown",
   "metadata": {},
   "source": [
    "# Datasets files & utils"
   ]
  },
  {
   "cell_type": "code",
   "execution_count": 3,
   "metadata": {},
   "outputs": [],
   "source": [
    "# the path we save data\n",
    "if not os.path.exists('../img'):\n",
    "    os.mkdir('../img')\n",
    "\n",
    "# Transform of our datasets\n",
    "trans = transforms.Compose([\n",
    "    transforms.ToTensor(),\n",
    "    transforms.Normalize(mean = (0.5), std = (0.5))\n",
    "])\n",
    "    \n",
    "# MNIST datasets downloading……\n",
    "mnist = datasets.MNIST(\n",
    "    root = '../data/mnist/', train = True, transform = trans, download = True\n",
    ")\n",
    "\n",
    "# Dataloader\n",
    "dataloader = torch.utils.data.DataLoader(\n",
    "    dataset = mnist, batch_size = batch_size, shuffle = True\n",
    ")\n"
   ]
  },
  {
   "cell_type": "code",
   "execution_count": 4,
   "metadata": {},
   "outputs": [],
   "source": [
    "def to_gray_img(x):\n",
    "    out = 0.5*(x+1)\n",
    "    out = out.clamp(0,1) # force therandom distribution of x into [min, max]\n",
    "    out = out.view(-1, 1, 28, 28) # view a multi-row Tensor as one row\n",
    "    return out"
   ]
  },
  {
   "cell_type": "markdown",
   "metadata": {},
   "source": [
    "# Discriminator Definitions (Vanilla FC Fashion)\n",
    "Considering that the MNIST images are all of 28 * 28 images, the input size of our fully connection network is 784.\n",
    "\n",
    "It is a **unconditional** version."
   ]
  },
  {
   "cell_type": "code",
   "execution_count": 5,
   "metadata": {},
   "outputs": [],
   "source": [
    "class discriminator(nn.Module):\n",
    "    def __init__(self):\n",
    "        super(discriminator, self).__init__() # 说起来这句是干嘛的？\n",
    "        self.D = nn.Sequential(\n",
    "            nn.Linear(784, 256),\n",
    "            nn.LeakyReLU(0.2),\n",
    "            nn.Linear(256, 256),\n",
    "            nn.LeakyReLU(0.2),\n",
    "            nn.Linear(256, 1),\n",
    "            nn.Sigmoid() # propability of the given image being Real\n",
    "        )\n",
    "    \n",
    "    def forward(self, x):\n",
    "        x = self.D(x)\n",
    "        return x"
   ]
  },
  {
   "cell_type": "markdown",
   "metadata": {},
   "source": [
    "# Generator Definitions (Vanilla FC Fashion)\n",
    "Considering that the MNIST images are all of 28 * 28 images, the output size of our fully connection network is 784.\n",
    "\n",
    "The final `Tanh` activataion function can project output into (-1,1)\n",
    "\n",
    "It is a **unconditional** version."
   ]
  },
  {
   "cell_type": "code",
   "execution_count": 6,
   "metadata": {},
   "outputs": [],
   "source": [
    "class generator(nn.Module):\n",
    "    \n",
    "    def __init__(self):\n",
    "        super(generator, self).__init__()\n",
    "        self.G = nn.Sequential(\n",
    "            nn.Linear(100, 256),\n",
    "            nn.ReLU(True),\n",
    "            nn.Linear(256, 256),\n",
    "            nn.ReLU(True),\n",
    "            nn.Linear(256, 784),\n",
    "            nn.Tanh()\n",
    "        )\n",
    "        \n",
    "    def forward(self, x):\n",
    "        x = self.G(x)\n",
    "        return x\n",
    "        \n",
    "        "
   ]
  },
  {
   "cell_type": "markdown",
   "metadata": {},
   "source": [
    "# Traning Phase\n",
    "## Model & Opitmizer"
   ]
  },
  {
   "cell_type": "code",
   "execution_count": 16,
   "metadata": {},
   "outputs": [],
   "source": [
    "\n",
    "D = discriminator()\n",
    "G = generator()\n",
    "\n",
    "\n",
    "device = torch.device(\"cuda:0\" if torch.cuda.is_available() else \"cpu\")\n",
    "\n",
    "D = D.to(device)\n",
    "G = G.to(device)\n",
    "\n",
    "\n"
   ]
  },
  {
   "cell_type": "code",
   "execution_count": 17,
   "metadata": {},
   "outputs": [],
   "source": [
    "criterion = nn.BCELoss() # 二分类交叉熵\n",
    "\n",
    "d_optimizer = torch.optim.Adam(D.parameters(), lr = lr_D)\n",
    "g_optimizer = torch.optim.Adam(G.parameters(), lr = lr_G)"
   ]
  },
  {
   "cell_type": "markdown",
   "metadata": {},
   "source": [
    "## Trainning Start!"
   ]
  },
  {
   "cell_type": "code",
   "execution_count": 24,
   "metadata": {},
   "outputs": [
    {
     "name": "stderr",
     "output_type": "stream",
     "text": [
      "  0%|          | 0/100 [00:00<?, ?it/s]"
     ]
    },
    {
     "name": "stdout",
     "output_type": "stream",
     "text": [
      "Epoch[0/100],d_loss:0.452047,g_loss:2.703708 D real: 0.847078,D fake: 0.149786\n",
      "Epoch[0/100],d_loss:0.527328,g_loss:2.918219 D real: 0.810040,D fake: 0.117311\n",
      "Epoch[0/100],d_loss:0.608762,g_loss:3.089234 D real: 0.874103,D fake: 0.115298\n",
      "Epoch[0/100],d_loss:0.539014,g_loss:2.693022 D real: 0.765134,D fake: 0.140833\n"
     ]
    },
    {
     "name": "stderr",
     "output_type": "stream",
     "text": [
      "  1%|          | 1/100 [00:43<1:11:52, 43.56s/it]"
     ]
    },
    {
     "name": "stdout",
     "output_type": "stream",
     "text": [
      "Epoch[1/100],d_loss:0.413162,g_loss:3.255656 D real: 0.869549,D fake: 0.108588\n",
      "Epoch[1/100],d_loss:0.427933,g_loss:3.135616 D real: 0.817288,D fake: 0.083811\n",
      "Epoch[1/100],d_loss:0.451787,g_loss:2.734869 D real: 0.834084,D fake: 0.126727\n",
      "Epoch[1/100],d_loss:0.411406,g_loss:2.821395 D real: 0.826763,D fake: 0.131237\n"
     ]
    },
    {
     "name": "stderr",
     "output_type": "stream",
     "text": [
      "  2%|▏         | 2/100 [01:18<1:06:53, 40.95s/it]"
     ]
    },
    {
     "name": "stdout",
     "output_type": "stream",
     "text": [
      "Epoch[2/100],d_loss:0.519467,g_loss:2.942325 D real: 0.837940,D fake: 0.119477\n",
      "Epoch[2/100],d_loss:0.716579,g_loss:2.679312 D real: 0.962487,D fake: 0.155648\n",
      "Epoch[2/100],d_loss:0.560924,g_loss:2.891476 D real: 0.821196,D fake: 0.139270\n",
      "Epoch[2/100],d_loss:0.448260,g_loss:3.293297 D real: 0.858225,D fake: 0.083673\n"
     ]
    },
    {
     "name": "stderr",
     "output_type": "stream",
     "text": [
      "  3%|▎         | 3/100 [01:52<1:03:04, 39.02s/it]"
     ]
    },
    {
     "name": "stdout",
     "output_type": "stream",
     "text": [
      "Epoch[3/100],d_loss:0.425831,g_loss:4.293768 D real: 0.853345,D fake: 0.046793\n",
      "Epoch[3/100],d_loss:0.501308,g_loss:2.180329 D real: 0.826388,D fake: 0.243741\n",
      "Epoch[3/100],d_loss:0.424261,g_loss:4.032296 D real: 0.853571,D fake: 0.056449\n",
      "Epoch[3/100],d_loss:0.567598,g_loss:2.812294 D real: 0.808814,D fake: 0.142910\n"
     ]
    },
    {
     "name": "stderr",
     "output_type": "stream",
     "text": [
      "  4%|▍         | 4/100 [02:26<59:56, 37.46s/it]  "
     ]
    },
    {
     "name": "stdout",
     "output_type": "stream",
     "text": [
      "Epoch[4/100],d_loss:0.339257,g_loss:3.218946 D real: 0.921387,D fake: 0.102937\n",
      "Epoch[4/100],d_loss:0.375300,g_loss:2.987647 D real: 0.899369,D fake: 0.134189\n",
      "Epoch[4/100],d_loss:0.367048,g_loss:3.344779 D real: 0.873252,D fake: 0.108485\n",
      "Epoch[4/100],d_loss:0.405502,g_loss:2.877771 D real: 0.849971,D fake: 0.151271\n"
     ]
    },
    {
     "name": "stderr",
     "output_type": "stream",
     "text": [
      "  5%|▌         | 5/100 [03:01<58:09, 36.73s/it]"
     ]
    },
    {
     "name": "stdout",
     "output_type": "stream",
     "text": [
      "Epoch[5/100],d_loss:0.328170,g_loss:3.260963 D real: 0.928346,D fake: 0.120059\n",
      "Epoch[5/100],d_loss:0.491582,g_loss:2.899930 D real: 0.853228,D fake: 0.123736\n",
      "Epoch[5/100],d_loss:0.443193,g_loss:2.949259 D real: 0.859482,D fake: 0.138643\n",
      "Epoch[5/100],d_loss:0.429051,g_loss:3.034294 D real: 0.890320,D fake: 0.120026\n"
     ]
    },
    {
     "name": "stderr",
     "output_type": "stream",
     "text": [
      "  6%|▌         | 6/100 [03:36<56:22, 35.98s/it]"
     ]
    },
    {
     "name": "stdout",
     "output_type": "stream",
     "text": [
      "Epoch[6/100],d_loss:0.444420,g_loss:3.482402 D real: 0.812691,D fake: 0.073576\n",
      "Epoch[6/100],d_loss:0.604919,g_loss:2.760991 D real: 0.811676,D fake: 0.141452\n",
      "Epoch[6/100],d_loss:0.457185,g_loss:3.896561 D real: 0.817483,D fake: 0.063249\n",
      "Epoch[6/100],d_loss:0.324824,g_loss:3.904979 D real: 0.875718,D fake: 0.054835\n"
     ]
    },
    {
     "name": "stderr",
     "output_type": "stream",
     "text": [
      "  7%|▋         | 7/100 [04:10<55:03, 35.52s/it]"
     ]
    },
    {
     "name": "stdout",
     "output_type": "stream",
     "text": [
      "Epoch[7/100],d_loss:0.622403,g_loss:2.292882 D real: 0.829973,D fake: 0.205874\n",
      "Epoch[7/100],d_loss:0.616073,g_loss:3.258158 D real: 0.781456,D fake: 0.116708\n",
      "Epoch[7/100],d_loss:0.452980,g_loss:2.716856 D real: 0.859541,D fake: 0.153139\n",
      "Epoch[7/100],d_loss:0.550325,g_loss:3.250696 D real: 0.879004,D fake: 0.096042\n"
     ]
    },
    {
     "name": "stderr",
     "output_type": "stream",
     "text": [
      "  8%|▊         | 8/100 [04:44<53:54, 35.16s/it]"
     ]
    },
    {
     "name": "stdout",
     "output_type": "stream",
     "text": [
      "Epoch[8/100],d_loss:0.521230,g_loss:2.535828 D real: 0.818204,D fake: 0.159840\n",
      "Epoch[8/100],d_loss:0.549807,g_loss:3.202477 D real: 0.896844,D fake: 0.089776\n",
      "Epoch[8/100],d_loss:0.567129,g_loss:1.996982 D real: 0.814263,D fake: 0.227568\n",
      "Epoch[8/100],d_loss:0.384286,g_loss:3.650936 D real: 0.837338,D fake: 0.077698\n"
     ]
    },
    {
     "name": "stderr",
     "output_type": "stream",
     "text": [
      "  9%|▉         | 9/100 [05:19<52:59, 34.94s/it]"
     ]
    },
    {
     "name": "stdout",
     "output_type": "stream",
     "text": [
      "Epoch[9/100],d_loss:0.506155,g_loss:2.874569 D real: 0.793865,D fake: 0.126078\n",
      "Epoch[9/100],d_loss:0.655230,g_loss:3.127299 D real: 0.826167,D fake: 0.133214\n",
      "Epoch[9/100],d_loss:0.785407,g_loss:1.441527 D real: 0.812876,D fake: 0.372088\n",
      "Epoch[9/100],d_loss:0.470657,g_loss:2.669202 D real: 0.855788,D fake: 0.140407\n"
     ]
    },
    {
     "name": "stderr",
     "output_type": "stream",
     "text": [
      " 10%|█         | 10/100 [05:53<52:13, 34.82s/it]"
     ]
    },
    {
     "name": "stdout",
     "output_type": "stream",
     "text": [
      "Epoch[10/100],d_loss:0.604063,g_loss:2.775272 D real: 0.772102,D fake: 0.127741\n",
      "Epoch[10/100],d_loss:0.554837,g_loss:1.958882 D real: 0.880609,D fake: 0.241898\n",
      "Epoch[10/100],d_loss:0.683282,g_loss:2.551317 D real: 0.744068,D fake: 0.162154\n",
      "Epoch[10/100],d_loss:0.733067,g_loss:2.672535 D real: 0.772367,D fake: 0.153403\n"
     ]
    },
    {
     "name": "stderr",
     "output_type": "stream",
     "text": [
      " 11%|█         | 11/100 [06:28<51:24, 34.65s/it]"
     ]
    },
    {
     "name": "stdout",
     "output_type": "stream",
     "text": [
      "Epoch[11/100],d_loss:0.508817,g_loss:2.462533 D real: 0.826413,D fake: 0.176988\n",
      "Epoch[11/100],d_loss:0.739436,g_loss:1.938018 D real: 0.795641,D fake: 0.251943\n",
      "Epoch[11/100],d_loss:0.612947,g_loss:2.492705 D real: 0.782304,D fake: 0.142039\n",
      "Epoch[11/100],d_loss:0.635208,g_loss:1.677816 D real: 0.788490,D fake: 0.275012\n"
     ]
    },
    {
     "name": "stderr",
     "output_type": "stream",
     "text": [
      " 12%|█▏        | 12/100 [07:02<50:41, 34.56s/it]"
     ]
    },
    {
     "name": "stdout",
     "output_type": "stream",
     "text": [
      "Epoch[12/100],d_loss:0.531962,g_loss:2.721616 D real: 0.789494,D fake: 0.148323\n",
      "Epoch[12/100],d_loss:0.584788,g_loss:1.981547 D real: 0.773350,D fake: 0.233326\n",
      "Epoch[12/100],d_loss:0.601144,g_loss:2.143930 D real: 0.828353,D fake: 0.218877\n",
      "Epoch[12/100],d_loss:0.541821,g_loss:2.114102 D real: 0.829886,D fake: 0.230561\n"
     ]
    },
    {
     "name": "stderr",
     "output_type": "stream",
     "text": [
      " 13%|█▎        | 13/100 [07:37<50:14, 34.65s/it]"
     ]
    },
    {
     "name": "stdout",
     "output_type": "stream",
     "text": [
      "Epoch[13/100],d_loss:0.657519,g_loss:1.509791 D real: 0.792285,D fake: 0.327699\n",
      "Epoch[13/100],d_loss:0.517278,g_loss:2.196641 D real: 0.837108,D fake: 0.206564\n",
      "Epoch[13/100],d_loss:0.685137,g_loss:2.118934 D real: 0.822782,D fake: 0.215511\n",
      "Epoch[13/100],d_loss:0.507231,g_loss:1.825313 D real: 0.817255,D fake: 0.273955\n"
     ]
    },
    {
     "name": "stderr",
     "output_type": "stream",
     "text": [
      " 14%|█▍        | 14/100 [08:11<49:18, 34.40s/it]"
     ]
    },
    {
     "name": "stdout",
     "output_type": "stream",
     "text": [
      "Epoch[14/100],d_loss:0.513342,g_loss:2.291279 D real: 0.805060,D fake: 0.175217\n",
      "Epoch[14/100],d_loss:0.665800,g_loss:2.225128 D real: 0.763280,D fake: 0.196338\n",
      "Epoch[14/100],d_loss:0.513583,g_loss:2.406211 D real: 0.847010,D fake: 0.174889\n",
      "Epoch[14/100],d_loss:0.601209,g_loss:2.194790 D real: 0.802138,D fake: 0.200643\n"
     ]
    },
    {
     "name": "stderr",
     "output_type": "stream",
     "text": [
      " 15%|█▌        | 15/100 [08:43<47:53, 33.80s/it]"
     ]
    },
    {
     "name": "stdout",
     "output_type": "stream",
     "text": [
      "Epoch[15/100],d_loss:0.582337,g_loss:2.209619 D real: 0.830784,D fake: 0.180119\n",
      "Epoch[15/100],d_loss:0.544643,g_loss:2.445342 D real: 0.880029,D fake: 0.159597\n",
      "Epoch[15/100],d_loss:0.549816,g_loss:2.462039 D real: 0.834617,D fake: 0.161066\n",
      "Epoch[15/100],d_loss:0.576090,g_loss:2.364291 D real: 0.787765,D fake: 0.192083\n"
     ]
    },
    {
     "name": "stderr",
     "output_type": "stream",
     "text": [
      " 16%|█▌        | 16/100 [09:18<47:43, 34.09s/it]"
     ]
    },
    {
     "name": "stdout",
     "output_type": "stream",
     "text": [
      "Epoch[16/100],d_loss:0.613093,g_loss:2.379918 D real: 0.783279,D fake: 0.158870\n",
      "Epoch[16/100],d_loss:0.629819,g_loss:2.198735 D real: 0.814877,D fake: 0.208923\n",
      "Epoch[16/100],d_loss:0.878693,g_loss:2.276943 D real: 0.738625,D fake: 0.189839\n",
      "Epoch[16/100],d_loss:0.720254,g_loss:2.574477 D real: 0.781637,D fake: 0.141334\n"
     ]
    },
    {
     "name": "stderr",
     "output_type": "stream",
     "text": [
      " 17%|█▋        | 17/100 [09:51<46:52, 33.89s/it]"
     ]
    },
    {
     "name": "stdout",
     "output_type": "stream",
     "text": [
      "Epoch[17/100],d_loss:0.642955,g_loss:2.885736 D real: 0.794799,D fake: 0.130093\n",
      "Epoch[17/100],d_loss:0.622065,g_loss:2.278723 D real: 0.770011,D fake: 0.191964\n",
      "Epoch[17/100],d_loss:0.652469,g_loss:2.408953 D real: 0.807392,D fake: 0.153331\n",
      "Epoch[17/100],d_loss:0.562390,g_loss:2.342419 D real: 0.817447,D fake: 0.165645\n"
     ]
    },
    {
     "name": "stderr",
     "output_type": "stream",
     "text": [
      " 18%|█▊        | 18/100 [10:25<46:28, 34.01s/it]"
     ]
    },
    {
     "name": "stdout",
     "output_type": "stream",
     "text": [
      "Epoch[18/100],d_loss:0.546801,g_loss:2.529209 D real: 0.847826,D fake: 0.170214\n",
      "Epoch[18/100],d_loss:0.654836,g_loss:1.696366 D real: 0.809257,D fake: 0.277164\n",
      "Epoch[18/100],d_loss:0.528881,g_loss:1.898744 D real: 0.818316,D fake: 0.238413\n",
      "Epoch[18/100],d_loss:0.736368,g_loss:1.656480 D real: 0.743367,D fake: 0.305760\n"
     ]
    },
    {
     "name": "stderr",
     "output_type": "stream",
     "text": [
      " 19%|█▉        | 19/100 [11:00<45:57, 34.04s/it]"
     ]
    },
    {
     "name": "stdout",
     "output_type": "stream",
     "text": [
      "Epoch[19/100],d_loss:0.499236,g_loss:2.759339 D real: 0.801675,D fake: 0.140161\n",
      "Epoch[19/100],d_loss:0.506267,g_loss:2.109088 D real: 0.834287,D fake: 0.202668\n",
      "Epoch[19/100],d_loss:0.790552,g_loss:2.427177 D real: 0.728851,D fake: 0.159108\n",
      "Epoch[19/100],d_loss:0.638870,g_loss:2.268266 D real: 0.738034,D fake: 0.170014\n"
     ]
    },
    {
     "name": "stderr",
     "output_type": "stream",
     "text": [
      " 20%|██        | 20/100 [11:31<44:31, 33.39s/it]"
     ]
    },
    {
     "name": "stdout",
     "output_type": "stream",
     "text": [
      "Epoch[20/100],d_loss:0.643842,g_loss:2.119742 D real: 0.807437,D fake: 0.198574\n",
      "Epoch[20/100],d_loss:0.508954,g_loss:2.488201 D real: 0.839060,D fake: 0.151450\n",
      "Epoch[20/100],d_loss:0.459828,g_loss:2.622823 D real: 0.828482,D fake: 0.141353\n",
      "Epoch[20/100],d_loss:0.635328,g_loss:2.282664 D real: 0.868750,D fake: 0.176447\n"
     ]
    },
    {
     "name": "stderr",
     "output_type": "stream",
     "text": [
      " 21%|██        | 21/100 [12:04<43:29, 33.03s/it]"
     ]
    },
    {
     "name": "stdout",
     "output_type": "stream",
     "text": [
      "Epoch[21/100],d_loss:0.632588,g_loss:2.083279 D real: 0.829853,D fake: 0.207934\n",
      "Epoch[21/100],d_loss:0.513192,g_loss:2.352955 D real: 0.806070,D fake: 0.167617\n",
      "Epoch[21/100],d_loss:0.650025,g_loss:2.144539 D real: 0.785833,D fake: 0.198658\n",
      "Epoch[21/100],d_loss:0.646955,g_loss:2.231521 D real: 0.842016,D fake: 0.179564\n"
     ]
    },
    {
     "name": "stderr",
     "output_type": "stream",
     "text": [
      " 22%|██▏       | 22/100 [12:36<42:47, 32.91s/it]"
     ]
    },
    {
     "name": "stdout",
     "output_type": "stream",
     "text": [
      "Epoch[22/100],d_loss:0.579574,g_loss:1.805031 D real: 0.833751,D fake: 0.262131\n",
      "Epoch[22/100],d_loss:0.672491,g_loss:1.737226 D real: 0.821032,D fake: 0.268975\n",
      "Epoch[22/100],d_loss:0.853114,g_loss:1.971972 D real: 0.769731,D fake: 0.251348\n",
      "Epoch[22/100],d_loss:0.612771,g_loss:2.513950 D real: 0.800986,D fake: 0.160755\n"
     ]
    },
    {
     "name": "stderr",
     "output_type": "stream",
     "text": [
      " 23%|██▎       | 23/100 [13:10<42:33, 33.16s/it]"
     ]
    },
    {
     "name": "stdout",
     "output_type": "stream",
     "text": [
      "Epoch[23/100],d_loss:0.704449,g_loss:1.939818 D real: 0.797179,D fake: 0.223296\n",
      "Epoch[23/100],d_loss:0.973671,g_loss:2.227158 D real: 0.698773,D fake: 0.181137\n",
      "Epoch[23/100],d_loss:0.833808,g_loss:2.120471 D real: 0.735172,D fake: 0.203619\n",
      "Epoch[23/100],d_loss:0.783466,g_loss:1.680489 D real: 0.716706,D fake: 0.282378\n"
     ]
    },
    {
     "name": "stderr",
     "output_type": "stream",
     "text": [
      " 24%|██▍       | 24/100 [13:42<41:44, 32.95s/it]"
     ]
    },
    {
     "name": "stdout",
     "output_type": "stream",
     "text": [
      "Epoch[24/100],d_loss:0.662496,g_loss:2.590632 D real: 0.779173,D fake: 0.135036\n",
      "Epoch[24/100],d_loss:0.608454,g_loss:1.955376 D real: 0.783013,D fake: 0.225947\n",
      "Epoch[24/100],d_loss:0.657853,g_loss:1.739487 D real: 0.828693,D fake: 0.275739\n",
      "Epoch[24/100],d_loss:0.622942,g_loss:2.210867 D real: 0.773775,D fake: 0.164142\n"
     ]
    },
    {
     "name": "stderr",
     "output_type": "stream",
     "text": [
      " 25%|██▌       | 25/100 [14:15<41:03, 32.85s/it]"
     ]
    },
    {
     "name": "stdout",
     "output_type": "stream",
     "text": [
      "Epoch[25/100],d_loss:0.773276,g_loss:2.061503 D real: 0.755600,D fake: 0.203260\n",
      "Epoch[25/100],d_loss:0.661918,g_loss:2.421758 D real: 0.750109,D fake: 0.148420\n",
      "Epoch[25/100],d_loss:0.776327,g_loss:2.192485 D real: 0.770669,D fake: 0.191831\n",
      "Epoch[25/100],d_loss:0.718031,g_loss:2.167306 D real: 0.741609,D fake: 0.193874\n"
     ]
    },
    {
     "name": "stderr",
     "output_type": "stream",
     "text": [
      " 26%|██▌       | 26/100 [14:46<39:53, 32.35s/it]"
     ]
    },
    {
     "name": "stdout",
     "output_type": "stream",
     "text": [
      "Epoch[26/100],d_loss:0.605756,g_loss:2.310414 D real: 0.796315,D fake: 0.162317\n",
      "Epoch[26/100],d_loss:0.573537,g_loss:2.546970 D real: 0.809277,D fake: 0.140253\n",
      "Epoch[26/100],d_loss:0.718680,g_loss:2.568921 D real: 0.706543,D fake: 0.147998\n",
      "Epoch[26/100],d_loss:0.812056,g_loss:2.222533 D real: 0.674438,D fake: 0.171763\n"
     ]
    },
    {
     "name": "stderr",
     "output_type": "stream",
     "text": [
      " 27%|██▋       | 27/100 [15:18<39:17, 32.29s/it]"
     ]
    },
    {
     "name": "stdout",
     "output_type": "stream",
     "text": [
      "Epoch[27/100],d_loss:0.702475,g_loss:2.042212 D real: 0.757031,D fake: 0.220354\n",
      "Epoch[27/100],d_loss:0.813968,g_loss:2.241813 D real: 0.723355,D fake: 0.176961\n",
      "Epoch[27/100],d_loss:0.817671,g_loss:2.042662 D real: 0.803997,D fake: 0.217576\n",
      "Epoch[27/100],d_loss:0.739001,g_loss:2.545592 D real: 0.740729,D fake: 0.158601\n"
     ]
    },
    {
     "name": "stderr",
     "output_type": "stream",
     "text": [
      " 28%|██▊       | 28/100 [15:51<38:53, 32.41s/it]"
     ]
    },
    {
     "name": "stdout",
     "output_type": "stream",
     "text": [
      "Epoch[28/100],d_loss:0.758295,g_loss:1.788519 D real: 0.820465,D fake: 0.272279\n",
      "Epoch[28/100],d_loss:0.607457,g_loss:1.915929 D real: 0.808110,D fake: 0.236332\n",
      "Epoch[28/100],d_loss:0.750431,g_loss:1.768107 D real: 0.835840,D fake: 0.254818\n",
      "Epoch[28/100],d_loss:0.545847,g_loss:2.033029 D real: 0.833169,D fake: 0.209198\n"
     ]
    },
    {
     "name": "stderr",
     "output_type": "stream",
     "text": [
      " 29%|██▉       | 29/100 [16:23<38:15, 32.33s/it]"
     ]
    },
    {
     "name": "stdout",
     "output_type": "stream",
     "text": [
      "Epoch[29/100],d_loss:0.677105,g_loss:2.597099 D real: 0.722982,D fake: 0.135138\n",
      "Epoch[29/100],d_loss:0.524624,g_loss:2.413165 D real: 0.792103,D fake: 0.138677\n",
      "Epoch[29/100],d_loss:0.594303,g_loss:2.230070 D real: 0.789585,D fake: 0.184517\n",
      "Epoch[29/100],d_loss:0.698180,g_loss:2.312955 D real: 0.745164,D fake: 0.175678\n"
     ]
    },
    {
     "name": "stderr",
     "output_type": "stream",
     "text": [
      " 30%|███       | 30/100 [16:56<37:51, 32.46s/it]"
     ]
    },
    {
     "name": "stdout",
     "output_type": "stream",
     "text": [
      "Epoch[30/100],d_loss:0.532124,g_loss:2.164332 D real: 0.799785,D fake: 0.196581\n",
      "Epoch[30/100],d_loss:0.780701,g_loss:1.993846 D real: 0.888673,D fake: 0.217401\n",
      "Epoch[30/100],d_loss:0.710608,g_loss:1.785235 D real: 0.876907,D fake: 0.268355\n",
      "Epoch[30/100],d_loss:0.535187,g_loss:2.578540 D real: 0.754265,D fake: 0.132303\n"
     ]
    },
    {
     "name": "stderr",
     "output_type": "stream",
     "text": [
      " 31%|███       | 31/100 [17:28<37:17, 32.43s/it]"
     ]
    },
    {
     "name": "stdout",
     "output_type": "stream",
     "text": [
      "Epoch[31/100],d_loss:0.633058,g_loss:2.159460 D real: 0.779286,D fake: 0.195949\n",
      "Epoch[31/100],d_loss:0.556615,g_loss:2.283691 D real: 0.860055,D fake: 0.161653\n",
      "Epoch[31/100],d_loss:0.661322,g_loss:1.884596 D real: 0.792997,D fake: 0.224637\n",
      "Epoch[31/100],d_loss:0.745869,g_loss:2.180503 D real: 0.772736,D fake: 0.176624\n"
     ]
    },
    {
     "name": "stderr",
     "output_type": "stream",
     "text": [
      " 32%|███▏      | 32/100 [18:01<36:50, 32.51s/it]"
     ]
    },
    {
     "name": "stdout",
     "output_type": "stream",
     "text": [
      "Epoch[32/100],d_loss:0.714162,g_loss:2.018595 D real: 0.752003,D fake: 0.206974\n",
      "Epoch[32/100],d_loss:0.753811,g_loss:2.345752 D real: 0.776596,D fake: 0.177648\n",
      "Epoch[32/100],d_loss:0.623625,g_loss:2.577229 D real: 0.772040,D fake: 0.142116\n",
      "Epoch[32/100],d_loss:0.756019,g_loss:2.084441 D real: 0.708978,D fake: 0.197329\n"
     ]
    },
    {
     "name": "stderr",
     "output_type": "stream",
     "text": [
      " 33%|███▎      | 33/100 [18:34<36:18, 32.51s/it]"
     ]
    },
    {
     "name": "stdout",
     "output_type": "stream",
     "text": [
      "Epoch[33/100],d_loss:0.707446,g_loss:1.790950 D real: 0.799807,D fake: 0.245609\n",
      "Epoch[33/100],d_loss:0.660576,g_loss:1.664481 D real: 0.782037,D fake: 0.272799\n",
      "Epoch[33/100],d_loss:0.702554,g_loss:1.695959 D real: 0.718015,D fake: 0.266415\n",
      "Epoch[33/100],d_loss:0.816884,g_loss:1.860070 D real: 0.830246,D fake: 0.250405\n"
     ]
    },
    {
     "name": "stderr",
     "output_type": "stream",
     "text": [
      " 34%|███▍      | 34/100 [19:07<36:10, 32.89s/it]"
     ]
    },
    {
     "name": "stdout",
     "output_type": "stream",
     "text": [
      "Epoch[34/100],d_loss:0.724169,g_loss:2.201915 D real: 0.794584,D fake: 0.189249\n",
      "Epoch[34/100],d_loss:0.659114,g_loss:2.294539 D real: 0.699892,D fake: 0.166824\n",
      "Epoch[34/100],d_loss:0.800765,g_loss:1.978478 D real: 0.687774,D fake: 0.235838\n",
      "Epoch[34/100],d_loss:0.765334,g_loss:2.245595 D real: 0.780322,D fake: 0.168833\n"
     ]
    },
    {
     "name": "stderr",
     "output_type": "stream",
     "text": [
      " 35%|███▌      | 35/100 [19:42<36:08, 33.35s/it]"
     ]
    },
    {
     "name": "stdout",
     "output_type": "stream",
     "text": [
      "Epoch[35/100],d_loss:0.614794,g_loss:2.168633 D real: 0.791187,D fake: 0.180650\n",
      "Epoch[35/100],d_loss:0.728656,g_loss:2.554282 D real: 0.723216,D fake: 0.137339\n",
      "Epoch[35/100],d_loss:0.658334,g_loss:1.983058 D real: 0.772440,D fake: 0.233456\n",
      "Epoch[35/100],d_loss:0.675180,g_loss:1.928087 D real: 0.752626,D fake: 0.222723\n"
     ]
    },
    {
     "name": "stderr",
     "output_type": "stream",
     "text": [
      " 36%|███▌      | 36/100 [20:14<35:17, 33.08s/it]"
     ]
    },
    {
     "name": "stdout",
     "output_type": "stream",
     "text": [
      "Epoch[36/100],d_loss:0.720268,g_loss:2.243439 D real: 0.786717,D fake: 0.180731\n",
      "Epoch[36/100],d_loss:0.781685,g_loss:2.034511 D real: 0.752220,D fake: 0.219452\n",
      "Epoch[36/100],d_loss:0.726932,g_loss:1.776109 D real: 0.814504,D fake: 0.272356\n",
      "Epoch[36/100],d_loss:0.684353,g_loss:2.171122 D real: 0.736271,D fake: 0.164659\n"
     ]
    },
    {
     "name": "stderr",
     "output_type": "stream",
     "text": [
      " 37%|███▋      | 37/100 [20:49<35:07, 33.45s/it]"
     ]
    },
    {
     "name": "stdout",
     "output_type": "stream",
     "text": [
      "Epoch[37/100],d_loss:0.632233,g_loss:2.443721 D real: 0.788695,D fake: 0.146621\n",
      "Epoch[37/100],d_loss:0.687565,g_loss:1.619766 D real: 0.852633,D fake: 0.273920\n",
      "Epoch[37/100],d_loss:0.584649,g_loss:1.905346 D real: 0.832760,D fake: 0.233145\n",
      "Epoch[37/100],d_loss:0.584204,g_loss:2.067505 D real: 0.828500,D fake: 0.200552\n"
     ]
    },
    {
     "name": "stderr",
     "output_type": "stream",
     "text": [
      " 38%|███▊      | 38/100 [21:21<34:19, 33.22s/it]"
     ]
    },
    {
     "name": "stdout",
     "output_type": "stream",
     "text": [
      "Epoch[38/100],d_loss:0.616433,g_loss:1.826560 D real: 0.788352,D fake: 0.267019\n",
      "Epoch[38/100],d_loss:0.710354,g_loss:2.408573 D real: 0.719298,D fake: 0.164647\n",
      "Epoch[38/100],d_loss:0.706860,g_loss:2.217987 D real: 0.814572,D fake: 0.168172\n",
      "Epoch[38/100],d_loss:0.731185,g_loss:2.143372 D real: 0.840507,D fake: 0.182299\n"
     ]
    },
    {
     "name": "stderr",
     "output_type": "stream",
     "text": [
      " 39%|███▉      | 39/100 [21:56<34:13, 33.67s/it]"
     ]
    },
    {
     "name": "stdout",
     "output_type": "stream",
     "text": [
      "Epoch[39/100],d_loss:0.762208,g_loss:1.951547 D real: 0.831997,D fake: 0.205909\n",
      "Epoch[39/100],d_loss:0.919895,g_loss:1.940701 D real: 0.648159,D fake: 0.203101\n",
      "Epoch[39/100],d_loss:0.713535,g_loss:2.043421 D real: 0.864085,D fake: 0.205028\n",
      "Epoch[39/100],d_loss:0.806395,g_loss:1.972578 D real: 0.726989,D fake: 0.234667\n"
     ]
    },
    {
     "name": "stderr",
     "output_type": "stream",
     "text": [
      " 40%|████      | 40/100 [22:30<33:46, 33.77s/it]"
     ]
    },
    {
     "name": "stdout",
     "output_type": "stream",
     "text": [
      "Epoch[40/100],d_loss:0.826173,g_loss:1.868015 D real: 0.786753,D fake: 0.250181\n",
      "Epoch[40/100],d_loss:0.707148,g_loss:1.998493 D real: 0.744597,D fake: 0.204417\n",
      "Epoch[40/100],d_loss:0.769173,g_loss:1.858442 D real: 0.735447,D fake: 0.248097\n",
      "Epoch[40/100],d_loss:0.638930,g_loss:1.687383 D real: 0.823932,D fake: 0.260864\n"
     ]
    },
    {
     "name": "stderr",
     "output_type": "stream",
     "text": [
      " 41%|████      | 41/100 [23:03<32:57, 33.52s/it]"
     ]
    },
    {
     "name": "stdout",
     "output_type": "stream",
     "text": [
      "Epoch[41/100],d_loss:0.680574,g_loss:2.428300 D real: 0.764385,D fake: 0.163823\n",
      "Epoch[41/100],d_loss:0.723165,g_loss:3.023300 D real: 0.700319,D fake: 0.099800\n",
      "Epoch[41/100],d_loss:0.839849,g_loss:2.128308 D real: 0.723500,D fake: 0.186300\n",
      "Epoch[41/100],d_loss:0.835241,g_loss:1.729298 D real: 0.741934,D fake: 0.266047\n"
     ]
    },
    {
     "name": "stderr",
     "output_type": "stream",
     "text": [
      " 42%|████▏     | 42/100 [23:37<32:31, 33.65s/it]"
     ]
    },
    {
     "name": "stdout",
     "output_type": "stream",
     "text": [
      "Epoch[42/100],d_loss:0.558603,g_loss:2.359016 D real: 0.821957,D fake: 0.175504\n",
      "Epoch[42/100],d_loss:0.746830,g_loss:1.877442 D real: 0.744765,D fake: 0.228125\n",
      "Epoch[42/100],d_loss:0.759556,g_loss:2.437573 D real: 0.720217,D fake: 0.166991\n",
      "Epoch[42/100],d_loss:0.844137,g_loss:2.143333 D real: 0.711161,D fake: 0.183757\n"
     ]
    },
    {
     "name": "stderr",
     "output_type": "stream",
     "text": [
      " 43%|████▎     | 43/100 [24:09<31:32, 33.20s/it]"
     ]
    },
    {
     "name": "stdout",
     "output_type": "stream",
     "text": [
      "Epoch[43/100],d_loss:0.737271,g_loss:2.301146 D real: 0.753948,D fake: 0.154796\n",
      "Epoch[43/100],d_loss:0.725698,g_loss:1.926819 D real: 0.770971,D fake: 0.223613\n",
      "Epoch[43/100],d_loss:0.757375,g_loss:2.013990 D real: 0.788653,D fake: 0.207156\n",
      "Epoch[43/100],d_loss:0.574655,g_loss:2.379736 D real: 0.805389,D fake: 0.167455\n"
     ]
    },
    {
     "name": "stderr",
     "output_type": "stream",
     "text": [
      " 44%|████▍     | 44/100 [24:41<30:32, 32.73s/it]"
     ]
    },
    {
     "name": "stdout",
     "output_type": "stream",
     "text": [
      "Epoch[44/100],d_loss:0.795331,g_loss:1.837212 D real: 0.765832,D fake: 0.218138\n",
      "Epoch[44/100],d_loss:0.589393,g_loss:1.742777 D real: 0.832629,D fake: 0.253793\n",
      "Epoch[44/100],d_loss:0.646423,g_loss:2.299301 D real: 0.780319,D fake: 0.165277\n",
      "Epoch[44/100],d_loss:0.676670,g_loss:2.227648 D real: 0.720920,D fake: 0.179185\n"
     ]
    },
    {
     "name": "stderr",
     "output_type": "stream",
     "text": [
      " 45%|████▌     | 45/100 [25:13<29:53, 32.61s/it]"
     ]
    },
    {
     "name": "stdout",
     "output_type": "stream",
     "text": [
      "Epoch[45/100],d_loss:0.722393,g_loss:1.873341 D real: 0.770612,D fake: 0.231958\n",
      "Epoch[45/100],d_loss:0.753580,g_loss:2.318408 D real: 0.761881,D fake: 0.162400\n",
      "Epoch[45/100],d_loss:0.656934,g_loss:1.990065 D real: 0.768573,D fake: 0.220804\n",
      "Epoch[45/100],d_loss:0.777840,g_loss:1.752567 D real: 0.773478,D fake: 0.252256\n"
     ]
    },
    {
     "name": "stderr",
     "output_type": "stream",
     "text": [
      " 46%|████▌     | 46/100 [25:46<29:21, 32.63s/it]"
     ]
    },
    {
     "name": "stdout",
     "output_type": "stream",
     "text": [
      "Epoch[46/100],d_loss:0.625304,g_loss:2.098093 D real: 0.795415,D fake: 0.199317\n",
      "Epoch[46/100],d_loss:0.687324,g_loss:2.294721 D real: 0.768486,D fake: 0.168867\n",
      "Epoch[46/100],d_loss:0.670126,g_loss:2.068853 D real: 0.822587,D fake: 0.182826\n",
      "Epoch[46/100],d_loss:0.652475,g_loss:1.913017 D real: 0.777324,D fake: 0.216583\n"
     ]
    },
    {
     "name": "stderr",
     "output_type": "stream",
     "text": [
      " 47%|████▋     | 47/100 [26:18<28:46, 32.58s/it]"
     ]
    },
    {
     "name": "stdout",
     "output_type": "stream",
     "text": [
      "Epoch[47/100],d_loss:0.730720,g_loss:1.551994 D real: 0.783627,D fake: 0.316381\n",
      "Epoch[47/100],d_loss:0.969930,g_loss:1.565565 D real: 0.792785,D fake: 0.288550\n",
      "Epoch[47/100],d_loss:0.905759,g_loss:1.566219 D real: 0.688276,D fake: 0.291212\n",
      "Epoch[47/100],d_loss:0.746515,g_loss:1.918373 D real: 0.794966,D fake: 0.235313\n"
     ]
    },
    {
     "name": "stderr",
     "output_type": "stream",
     "text": [
      " 48%|████▊     | 48/100 [26:53<28:44, 33.17s/it]"
     ]
    },
    {
     "name": "stdout",
     "output_type": "stream",
     "text": [
      "Epoch[48/100],d_loss:0.931258,g_loss:1.616560 D real: 0.797449,D fake: 0.286061\n",
      "Epoch[48/100],d_loss:0.798112,g_loss:1.824670 D real: 0.725042,D fake: 0.244385\n",
      "Epoch[48/100],d_loss:0.703138,g_loss:2.121200 D real: 0.695991,D fake: 0.179844\n",
      "Epoch[48/100],d_loss:0.651796,g_loss:1.891590 D real: 0.743379,D fake: 0.217556\n"
     ]
    },
    {
     "name": "stderr",
     "output_type": "stream",
     "text": [
      " 49%|████▉     | 49/100 [27:25<27:55, 32.85s/it]"
     ]
    },
    {
     "name": "stdout",
     "output_type": "stream",
     "text": [
      "Epoch[49/100],d_loss:0.696035,g_loss:2.035138 D real: 0.782219,D fake: 0.213646\n",
      "Epoch[49/100],d_loss:0.727477,g_loss:1.922277 D real: 0.764104,D fake: 0.213436\n",
      "Epoch[49/100],d_loss:0.843896,g_loss:1.930550 D real: 0.758453,D fake: 0.230601\n",
      "Epoch[49/100],d_loss:0.644831,g_loss:2.668669 D real: 0.778460,D fake: 0.140836\n"
     ]
    },
    {
     "name": "stderr",
     "output_type": "stream",
     "text": [
      " 50%|█████     | 50/100 [27:58<27:30, 33.02s/it]"
     ]
    },
    {
     "name": "stdout",
     "output_type": "stream",
     "text": [
      "Epoch[50/100],d_loss:0.737388,g_loss:1.827179 D real: 0.848478,D fake: 0.248819\n",
      "Epoch[50/100],d_loss:0.734048,g_loss:2.048999 D real: 0.757573,D fake: 0.204532\n",
      "Epoch[50/100],d_loss:0.705518,g_loss:1.836856 D real: 0.731107,D fake: 0.254671\n",
      "Epoch[50/100],d_loss:0.692131,g_loss:2.279320 D real: 0.786733,D fake: 0.177721\n"
     ]
    },
    {
     "name": "stderr",
     "output_type": "stream",
     "text": [
      " 51%|█████     | 51/100 [28:31<26:58, 33.03s/it]"
     ]
    },
    {
     "name": "stdout",
     "output_type": "stream",
     "text": [
      "Epoch[51/100],d_loss:0.589734,g_loss:2.232253 D real: 0.776634,D fake: 0.173625\n",
      "Epoch[51/100],d_loss:0.700514,g_loss:2.228969 D real: 0.786513,D fake: 0.177633\n",
      "Epoch[51/100],d_loss:0.729705,g_loss:1.992594 D real: 0.845533,D fake: 0.202157\n",
      "Epoch[51/100],d_loss:0.757624,g_loss:2.137295 D real: 0.746948,D fake: 0.182404\n"
     ]
    },
    {
     "name": "stderr",
     "output_type": "stream",
     "text": [
      " 52%|█████▏    | 52/100 [29:04<26:25, 33.02s/it]"
     ]
    },
    {
     "name": "stdout",
     "output_type": "stream",
     "text": [
      "Epoch[52/100],d_loss:0.666381,g_loss:2.056365 D real: 0.757344,D fake: 0.199359\n",
      "Epoch[52/100],d_loss:0.676799,g_loss:2.140695 D real: 0.781088,D fake: 0.182863\n",
      "Epoch[52/100],d_loss:0.673022,g_loss:1.786200 D real: 0.813567,D fake: 0.253190\n",
      "Epoch[52/100],d_loss:0.832122,g_loss:1.949530 D real: 0.665174,D fake: 0.213869\n"
     ]
    },
    {
     "name": "stderr",
     "output_type": "stream",
     "text": [
      " 53%|█████▎    | 53/100 [29:37<25:45, 32.88s/it]"
     ]
    },
    {
     "name": "stdout",
     "output_type": "stream",
     "text": [
      "Epoch[53/100],d_loss:0.614658,g_loss:2.038697 D real: 0.809706,D fake: 0.208270\n",
      "Epoch[53/100],d_loss:0.778426,g_loss:2.334646 D real: 0.708309,D fake: 0.169849\n",
      "Epoch[53/100],d_loss:0.737741,g_loss:1.896983 D real: 0.772108,D fake: 0.217630\n",
      "Epoch[53/100],d_loss:0.902877,g_loss:2.134486 D real: 0.630426,D fake: 0.178431\n"
     ]
    },
    {
     "name": "stderr",
     "output_type": "stream",
     "text": [
      " 54%|█████▍    | 54/100 [30:08<24:55, 32.50s/it]"
     ]
    },
    {
     "name": "stdout",
     "output_type": "stream",
     "text": [
      "Epoch[54/100],d_loss:0.746559,g_loss:2.037963 D real: 0.749891,D fake: 0.211797\n",
      "Epoch[54/100],d_loss:0.703189,g_loss:1.551710 D real: 0.755444,D fake: 0.288186\n",
      "Epoch[54/100],d_loss:0.690393,g_loss:1.683150 D real: 0.804718,D fake: 0.266209\n",
      "Epoch[54/100],d_loss:0.746338,g_loss:1.746759 D real: 0.784938,D fake: 0.278617\n"
     ]
    },
    {
     "name": "stderr",
     "output_type": "stream",
     "text": [
      " 55%|█████▌    | 55/100 [30:41<24:29, 32.66s/it]"
     ]
    },
    {
     "name": "stdout",
     "output_type": "stream",
     "text": [
      "Epoch[55/100],d_loss:0.736347,g_loss:1.437615 D real: 0.767802,D fake: 0.313659\n",
      "Epoch[55/100],d_loss:0.655529,g_loss:1.876601 D real: 0.795379,D fake: 0.218686\n",
      "Epoch[55/100],d_loss:0.640087,g_loss:2.085963 D real: 0.756833,D fake: 0.183680\n",
      "Epoch[55/100],d_loss:0.640738,g_loss:1.748219 D real: 0.791963,D fake: 0.250837\n"
     ]
    },
    {
     "name": "stderr",
     "output_type": "stream",
     "text": [
      " 56%|█████▌    | 56/100 [31:15<24:11, 32.99s/it]"
     ]
    },
    {
     "name": "stdout",
     "output_type": "stream",
     "text": [
      "Epoch[56/100],d_loss:0.760864,g_loss:2.062497 D real: 0.734995,D fake: 0.188757\n",
      "Epoch[56/100],d_loss:0.633460,g_loss:2.330653 D real: 0.813085,D fake: 0.146896\n",
      "Epoch[56/100],d_loss:0.826237,g_loss:1.746787 D real: 0.739985,D fake: 0.248403\n",
      "Epoch[56/100],d_loss:0.719293,g_loss:1.886850 D real: 0.758820,D fake: 0.222801\n"
     ]
    },
    {
     "name": "stderr",
     "output_type": "stream",
     "text": [
      " 57%|█████▋    | 57/100 [31:47<23:24, 32.67s/it]"
     ]
    },
    {
     "name": "stdout",
     "output_type": "stream",
     "text": [
      "Epoch[57/100],d_loss:0.656868,g_loss:2.258000 D real: 0.786569,D fake: 0.171348\n",
      "Epoch[57/100],d_loss:0.767071,g_loss:1.684196 D real: 0.746849,D fake: 0.276401\n",
      "Epoch[57/100],d_loss:0.794879,g_loss:1.907465 D real: 0.762518,D fake: 0.232393\n",
      "Epoch[57/100],d_loss:0.666115,g_loss:1.741790 D real: 0.807034,D fake: 0.263419\n"
     ]
    },
    {
     "name": "stderr",
     "output_type": "stream",
     "text": [
      " 58%|█████▊    | 58/100 [32:20<22:57, 32.80s/it]"
     ]
    },
    {
     "name": "stdout",
     "output_type": "stream",
     "text": [
      "Epoch[58/100],d_loss:0.823869,g_loss:1.953124 D real: 0.653896,D fake: 0.217555\n",
      "Epoch[58/100],d_loss:0.630349,g_loss:2.059039 D real: 0.774699,D fake: 0.191538\n",
      "Epoch[58/100],d_loss:0.581668,g_loss:2.724869 D real: 0.753595,D fake: 0.109332\n",
      "Epoch[58/100],d_loss:0.838036,g_loss:1.930615 D real: 0.735614,D fake: 0.201003\n"
     ]
    },
    {
     "name": "stderr",
     "output_type": "stream",
     "text": [
      " 59%|█████▉    | 59/100 [32:53<22:31, 32.96s/it]"
     ]
    },
    {
     "name": "stdout",
     "output_type": "stream",
     "text": [
      "Epoch[59/100],d_loss:0.640741,g_loss:2.134349 D real: 0.753632,D fake: 0.192955\n",
      "Epoch[59/100],d_loss:0.703266,g_loss:1.984561 D real: 0.717467,D fake: 0.202376\n",
      "Epoch[59/100],d_loss:0.898934,g_loss:1.852345 D real: 0.644371,D fake: 0.233552\n",
      "Epoch[59/100],d_loss:0.653904,g_loss:1.855187 D real: 0.740197,D fake: 0.240220\n"
     ]
    },
    {
     "name": "stderr",
     "output_type": "stream",
     "text": [
      " 60%|██████    | 60/100 [33:29<22:23, 33.59s/it]"
     ]
    },
    {
     "name": "stdout",
     "output_type": "stream",
     "text": [
      "Epoch[60/100],d_loss:0.768075,g_loss:1.434345 D real: 0.756113,D fake: 0.320172\n",
      "Epoch[60/100],d_loss:0.655871,g_loss:1.590821 D real: 0.811212,D fake: 0.268206\n",
      "Epoch[60/100],d_loss:0.825267,g_loss:1.508470 D real: 0.802506,D fake: 0.297757\n",
      "Epoch[60/100],d_loss:0.729648,g_loss:2.317836 D real: 0.696931,D fake: 0.146850\n"
     ]
    },
    {
     "name": "stderr",
     "output_type": "stream",
     "text": [
      " 61%|██████    | 61/100 [34:00<21:30, 33.09s/it]"
     ]
    },
    {
     "name": "stdout",
     "output_type": "stream",
     "text": [
      "Epoch[61/100],d_loss:0.651972,g_loss:1.730248 D real: 0.746017,D fake: 0.260597\n",
      "Epoch[61/100],d_loss:0.817223,g_loss:2.219662 D real: 0.762176,D fake: 0.186721\n",
      "Epoch[61/100],d_loss:0.683304,g_loss:2.430660 D real: 0.749600,D fake: 0.146705\n",
      "Epoch[61/100],d_loss:0.773025,g_loss:1.747534 D real: 0.744089,D fake: 0.262912\n"
     ]
    },
    {
     "name": "stderr",
     "output_type": "stream",
     "text": [
      " 62%|██████▏   | 62/100 [34:33<20:52, 32.95s/it]"
     ]
    },
    {
     "name": "stdout",
     "output_type": "stream",
     "text": [
      "Epoch[62/100],d_loss:0.816595,g_loss:1.744763 D real: 0.740735,D fake: 0.252922\n",
      "Epoch[62/100],d_loss:0.665123,g_loss:1.552072 D real: 0.780716,D fake: 0.310735\n",
      "Epoch[62/100],d_loss:0.728563,g_loss:2.171096 D real: 0.734378,D fake: 0.169547\n",
      "Epoch[62/100],d_loss:0.668312,g_loss:2.034392 D real: 0.739911,D fake: 0.210107\n"
     ]
    },
    {
     "name": "stderr",
     "output_type": "stream",
     "text": [
      " 63%|██████▎   | 63/100 [35:06<20:20, 33.00s/it]"
     ]
    },
    {
     "name": "stdout",
     "output_type": "stream",
     "text": [
      "Epoch[63/100],d_loss:0.901175,g_loss:2.209183 D real: 0.687004,D fake: 0.181638\n",
      "Epoch[63/100],d_loss:0.768389,g_loss:1.643492 D real: 0.833531,D fake: 0.278804\n",
      "Epoch[63/100],d_loss:0.886653,g_loss:2.171468 D real: 0.704877,D fake: 0.193672\n",
      "Epoch[63/100],d_loss:0.853835,g_loss:1.407085 D real: 0.689252,D fake: 0.314551\n"
     ]
    },
    {
     "name": "stderr",
     "output_type": "stream",
     "text": [
      " 64%|██████▍   | 64/100 [35:38<19:30, 32.52s/it]"
     ]
    },
    {
     "name": "stdout",
     "output_type": "stream",
     "text": [
      "Epoch[64/100],d_loss:0.806054,g_loss:1.707077 D real: 0.707174,D fake: 0.268454\n",
      "Epoch[64/100],d_loss:0.673266,g_loss:1.551769 D real: 0.738645,D fake: 0.288206\n",
      "Epoch[64/100],d_loss:0.733152,g_loss:1.603294 D real: 0.760116,D fake: 0.281051\n",
      "Epoch[64/100],d_loss:0.793492,g_loss:1.545035 D real: 0.713260,D fake: 0.284332\n"
     ]
    },
    {
     "name": "stderr",
     "output_type": "stream",
     "text": [
      " 65%|██████▌   | 65/100 [36:09<18:49, 32.26s/it]"
     ]
    },
    {
     "name": "stdout",
     "output_type": "stream",
     "text": [
      "Epoch[65/100],d_loss:0.723661,g_loss:1.417617 D real: 0.760406,D fake: 0.331667\n",
      "Epoch[65/100],d_loss:0.802923,g_loss:1.830790 D real: 0.765284,D fake: 0.238924\n",
      "Epoch[65/100],d_loss:0.732818,g_loss:1.507390 D real: 0.806985,D fake: 0.292044\n",
      "Epoch[65/100],d_loss:0.840641,g_loss:1.984031 D real: 0.686011,D fake: 0.219434\n"
     ]
    },
    {
     "name": "stderr",
     "output_type": "stream",
     "text": [
      " 66%|██████▌   | 66/100 [36:41<18:16, 32.24s/it]"
     ]
    },
    {
     "name": "stdout",
     "output_type": "stream",
     "text": [
      "Epoch[66/100],d_loss:0.871216,g_loss:2.035422 D real: 0.735844,D fake: 0.205325\n",
      "Epoch[66/100],d_loss:0.942762,g_loss:1.764880 D real: 0.679627,D fake: 0.241097\n",
      "Epoch[66/100],d_loss:0.770192,g_loss:2.208971 D real: 0.727850,D fake: 0.189880\n",
      "Epoch[66/100],d_loss:0.651778,g_loss:1.890271 D real: 0.783095,D fake: 0.209933\n"
     ]
    },
    {
     "name": "stderr",
     "output_type": "stream",
     "text": [
      " 67%|██████▋   | 67/100 [37:13<17:39, 32.12s/it]"
     ]
    },
    {
     "name": "stdout",
     "output_type": "stream",
     "text": [
      "Epoch[67/100],d_loss:0.725760,g_loss:2.127971 D real: 0.805220,D fake: 0.184117\n",
      "Epoch[67/100],d_loss:0.761747,g_loss:1.659380 D real: 0.760682,D fake: 0.261903\n",
      "Epoch[67/100],d_loss:0.706980,g_loss:2.449443 D real: 0.749833,D fake: 0.136840\n",
      "Epoch[67/100],d_loss:0.789070,g_loss:1.726121 D real: 0.820580,D fake: 0.261102\n"
     ]
    },
    {
     "name": "stderr",
     "output_type": "stream",
     "text": [
      " 68%|██████▊   | 68/100 [37:45<17:04, 32.03s/it]"
     ]
    },
    {
     "name": "stdout",
     "output_type": "stream",
     "text": [
      "Epoch[68/100],d_loss:0.820786,g_loss:1.269725 D real: 0.811519,D fake: 0.337408\n",
      "Epoch[68/100],d_loss:0.789492,g_loss:1.381770 D real: 0.751164,D fake: 0.333652\n",
      "Epoch[68/100],d_loss:0.849175,g_loss:2.404584 D real: 0.737877,D fake: 0.146061\n",
      "Epoch[68/100],d_loss:0.637502,g_loss:1.915643 D real: 0.751368,D fake: 0.217051\n"
     ]
    },
    {
     "name": "stderr",
     "output_type": "stream",
     "text": [
      " 69%|██████▉   | 69/100 [38:17<16:33, 32.04s/it]"
     ]
    },
    {
     "name": "stdout",
     "output_type": "stream",
     "text": [
      "Epoch[69/100],d_loss:0.643744,g_loss:1.925829 D real: 0.784694,D fake: 0.209858\n",
      "Epoch[69/100],d_loss:0.954741,g_loss:1.905040 D real: 0.639373,D fake: 0.209090\n",
      "Epoch[69/100],d_loss:0.746738,g_loss:1.946740 D real: 0.708614,D fake: 0.202496\n",
      "Epoch[69/100],d_loss:0.755503,g_loss:2.089144 D real: 0.694651,D fake: 0.184208\n"
     ]
    },
    {
     "name": "stderr",
     "output_type": "stream",
     "text": [
      " 70%|███████   | 70/100 [38:49<15:58, 31.96s/it]"
     ]
    },
    {
     "name": "stdout",
     "output_type": "stream",
     "text": [
      "Epoch[70/100],d_loss:0.707263,g_loss:2.076920 D real: 0.733377,D fake: 0.190467\n",
      "Epoch[70/100],d_loss:0.711136,g_loss:2.085264 D real: 0.733655,D fake: 0.187343\n",
      "Epoch[70/100],d_loss:0.733257,g_loss:1.889510 D real: 0.741414,D fake: 0.220339\n",
      "Epoch[70/100],d_loss:0.731930,g_loss:1.905411 D real: 0.754314,D fake: 0.233207\n"
     ]
    },
    {
     "name": "stderr",
     "output_type": "stream",
     "text": [
      " 71%|███████   | 71/100 [39:21<15:26, 31.96s/it]"
     ]
    },
    {
     "name": "stdout",
     "output_type": "stream",
     "text": [
      "Epoch[71/100],d_loss:0.573648,g_loss:1.982012 D real: 0.787800,D fake: 0.205359\n",
      "Epoch[71/100],d_loss:0.698667,g_loss:1.772668 D real: 0.771502,D fake: 0.244827\n",
      "Epoch[71/100],d_loss:0.748195,g_loss:1.941866 D real: 0.757316,D fake: 0.219019\n",
      "Epoch[71/100],d_loss:0.783575,g_loss:2.262470 D real: 0.738142,D fake: 0.160532\n"
     ]
    },
    {
     "name": "stderr",
     "output_type": "stream",
     "text": [
      " 72%|███████▏  | 72/100 [39:52<14:49, 31.75s/it]"
     ]
    },
    {
     "name": "stdout",
     "output_type": "stream",
     "text": [
      "Epoch[72/100],d_loss:0.643328,g_loss:1.864858 D real: 0.799670,D fake: 0.241310\n",
      "Epoch[72/100],d_loss:0.829911,g_loss:1.723741 D real: 0.686894,D fake: 0.243933\n",
      "Epoch[72/100],d_loss:0.786880,g_loss:1.812403 D real: 0.750994,D fake: 0.224866\n",
      "Epoch[72/100],d_loss:0.752728,g_loss:1.847228 D real: 0.774182,D fake: 0.239960\n"
     ]
    },
    {
     "name": "stderr",
     "output_type": "stream",
     "text": [
      " 73%|███████▎  | 73/100 [40:24<14:19, 31.84s/it]"
     ]
    },
    {
     "name": "stdout",
     "output_type": "stream",
     "text": [
      "Epoch[73/100],d_loss:0.884722,g_loss:1.624726 D real: 0.695896,D fake: 0.261050\n",
      "Epoch[73/100],d_loss:0.709918,g_loss:1.691098 D real: 0.765366,D fake: 0.265911\n",
      "Epoch[73/100],d_loss:0.748977,g_loss:1.978760 D real: 0.804559,D fake: 0.224909\n",
      "Epoch[73/100],d_loss:0.864958,g_loss:2.049028 D real: 0.746088,D fake: 0.188807\n"
     ]
    },
    {
     "name": "stderr",
     "output_type": "stream",
     "text": [
      " 74%|███████▍  | 74/100 [40:55<13:40, 31.57s/it]"
     ]
    },
    {
     "name": "stdout",
     "output_type": "stream",
     "text": [
      "Epoch[74/100],d_loss:0.822690,g_loss:1.592113 D real: 0.717522,D fake: 0.271287\n",
      "Epoch[74/100],d_loss:0.748729,g_loss:1.967462 D real: 0.759174,D fake: 0.214559\n",
      "Epoch[74/100],d_loss:0.846500,g_loss:1.681607 D real: 0.719561,D fake: 0.260395\n",
      "Epoch[74/100],d_loss:0.679596,g_loss:1.738387 D real: 0.763663,D fake: 0.245795\n"
     ]
    },
    {
     "name": "stderr",
     "output_type": "stream",
     "text": [
      " 75%|███████▌  | 75/100 [41:26<13:07, 31.50s/it]"
     ]
    },
    {
     "name": "stdout",
     "output_type": "stream",
     "text": [
      "Epoch[75/100],d_loss:0.750706,g_loss:2.005184 D real: 0.803607,D fake: 0.213850\n",
      "Epoch[75/100],d_loss:0.901473,g_loss:1.636446 D real: 0.664353,D fake: 0.259334\n",
      "Epoch[75/100],d_loss:0.818792,g_loss:1.764743 D real: 0.698282,D fake: 0.248907\n",
      "Epoch[75/100],d_loss:0.802756,g_loss:1.669677 D real: 0.755729,D fake: 0.266372\n"
     ]
    },
    {
     "name": "stderr",
     "output_type": "stream",
     "text": [
      " 76%|███████▌  | 76/100 [41:57<12:29, 31.23s/it]"
     ]
    },
    {
     "name": "stdout",
     "output_type": "stream",
     "text": [
      "Epoch[76/100],d_loss:0.867270,g_loss:1.719957 D real: 0.723034,D fake: 0.247501\n",
      "Epoch[76/100],d_loss:0.770172,g_loss:1.434565 D real: 0.802442,D fake: 0.323274\n",
      "Epoch[76/100],d_loss:0.777986,g_loss:1.933326 D real: 0.715245,D fake: 0.206142\n",
      "Epoch[76/100],d_loss:0.729584,g_loss:1.905813 D real: 0.716336,D fake: 0.227756\n"
     ]
    },
    {
     "name": "stderr",
     "output_type": "stream",
     "text": [
      " 77%|███████▋  | 77/100 [42:27<11:49, 30.84s/it]"
     ]
    },
    {
     "name": "stdout",
     "output_type": "stream",
     "text": [
      "Epoch[77/100],d_loss:0.910383,g_loss:1.499675 D real: 0.700312,D fake: 0.301558\n",
      "Epoch[77/100],d_loss:0.607987,g_loss:2.151261 D real: 0.769267,D fake: 0.198204\n",
      "Epoch[77/100],d_loss:0.806090,g_loss:1.381592 D real: 0.760736,D fake: 0.325709\n",
      "Epoch[77/100],d_loss:0.804087,g_loss:2.015253 D real: 0.728802,D fake: 0.204843\n"
     ]
    },
    {
     "name": "stderr",
     "output_type": "stream",
     "text": [
      " 78%|███████▊  | 78/100 [43:00<11:31, 31.43s/it]"
     ]
    },
    {
     "name": "stdout",
     "output_type": "stream",
     "text": [
      "Epoch[78/100],d_loss:0.756277,g_loss:1.724591 D real: 0.760384,D fake: 0.251370\n",
      "Epoch[78/100],d_loss:0.676114,g_loss:2.236646 D real: 0.739471,D fake: 0.151024\n",
      "Epoch[78/100],d_loss:0.838679,g_loss:1.746796 D real: 0.691529,D fake: 0.252564\n",
      "Epoch[78/100],d_loss:0.749939,g_loss:1.526520 D real: 0.781193,D fake: 0.283770\n"
     ]
    },
    {
     "name": "stderr",
     "output_type": "stream",
     "text": [
      " 79%|███████▉  | 79/100 [43:33<11:10, 31.95s/it]"
     ]
    },
    {
     "name": "stdout",
     "output_type": "stream",
     "text": [
      "Epoch[79/100],d_loss:0.756116,g_loss:1.345761 D real: 0.764871,D fake: 0.344819\n",
      "Epoch[79/100],d_loss:0.911107,g_loss:1.742043 D real: 0.626295,D fake: 0.245680\n",
      "Epoch[79/100],d_loss:0.758450,g_loss:1.959316 D real: 0.732717,D fake: 0.198290\n",
      "Epoch[79/100],d_loss:0.895962,g_loss:1.815094 D real: 0.739621,D fake: 0.245600\n"
     ]
    },
    {
     "name": "stderr",
     "output_type": "stream",
     "text": [
      " 80%|████████  | 80/100 [44:05<10:42, 32.10s/it]"
     ]
    },
    {
     "name": "stdout",
     "output_type": "stream",
     "text": [
      "Epoch[80/100],d_loss:0.754416,g_loss:1.980373 D real: 0.709069,D fake: 0.217197\n",
      "Epoch[80/100],d_loss:0.762962,g_loss:1.779555 D real: 0.790232,D fake: 0.254018\n",
      "Epoch[80/100],d_loss:0.769148,g_loss:1.799801 D real: 0.728015,D fake: 0.225572\n",
      "Epoch[80/100],d_loss:0.756534,g_loss:1.655944 D real: 0.823056,D fake: 0.267982\n"
     ]
    },
    {
     "name": "stderr",
     "output_type": "stream",
     "text": [
      " 81%|████████  | 81/100 [44:37<10:07, 31.96s/it]"
     ]
    },
    {
     "name": "stdout",
     "output_type": "stream",
     "text": [
      "Epoch[81/100],d_loss:0.769953,g_loss:1.999455 D real: 0.699881,D fake: 0.213234\n",
      "Epoch[81/100],d_loss:0.687099,g_loss:2.028764 D real: 0.765048,D fake: 0.197011\n",
      "Epoch[81/100],d_loss:0.711556,g_loss:1.645736 D real: 0.710087,D fake: 0.268035\n",
      "Epoch[81/100],d_loss:0.672410,g_loss:2.287098 D real: 0.778730,D fake: 0.178258\n"
     ]
    },
    {
     "name": "stderr",
     "output_type": "stream",
     "text": [
      " 82%|████████▏ | 82/100 [45:09<09:34, 31.94s/it]"
     ]
    },
    {
     "name": "stdout",
     "output_type": "stream",
     "text": [
      "Epoch[82/100],d_loss:0.719578,g_loss:1.671337 D real: 0.723585,D fake: 0.259014\n",
      "Epoch[82/100],d_loss:0.832426,g_loss:1.757938 D real: 0.785947,D fake: 0.251962\n",
      "Epoch[82/100],d_loss:0.786332,g_loss:1.652879 D real: 0.765854,D fake: 0.262428\n",
      "Epoch[82/100],d_loss:0.657699,g_loss:2.059982 D real: 0.763508,D fake: 0.198331\n"
     ]
    },
    {
     "name": "stderr",
     "output_type": "stream",
     "text": [
      " 83%|████████▎ | 83/100 [45:40<08:58, 31.68s/it]"
     ]
    },
    {
     "name": "stdout",
     "output_type": "stream",
     "text": [
      "Epoch[83/100],d_loss:0.890307,g_loss:1.911060 D real: 0.669585,D fake: 0.227425\n",
      "Epoch[83/100],d_loss:0.843544,g_loss:1.548772 D real: 0.721519,D fake: 0.289559\n",
      "Epoch[83/100],d_loss:0.826939,g_loss:2.052344 D real: 0.712263,D fake: 0.185520\n",
      "Epoch[83/100],d_loss:0.691440,g_loss:1.845450 D real: 0.823181,D fake: 0.237695\n"
     ]
    },
    {
     "name": "stderr",
     "output_type": "stream",
     "text": [
      " 84%|████████▍ | 84/100 [46:11<08:22, 31.41s/it]"
     ]
    },
    {
     "name": "stdout",
     "output_type": "stream",
     "text": [
      "Epoch[84/100],d_loss:0.748159,g_loss:1.737597 D real: 0.789061,D fake: 0.246414\n",
      "Epoch[84/100],d_loss:0.753697,g_loss:1.868905 D real: 0.745609,D fake: 0.220450\n",
      "Epoch[84/100],d_loss:0.692598,g_loss:1.766004 D real: 0.778738,D fake: 0.239228\n",
      "Epoch[84/100],d_loss:0.582478,g_loss:1.890712 D real: 0.810004,D fake: 0.203839\n"
     ]
    },
    {
     "name": "stderr",
     "output_type": "stream",
     "text": [
      " 85%|████████▌ | 85/100 [46:42<07:51, 31.42s/it]"
     ]
    },
    {
     "name": "stdout",
     "output_type": "stream",
     "text": [
      "Epoch[85/100],d_loss:0.886495,g_loss:1.570700 D real: 0.669800,D fake: 0.299964\n",
      "Epoch[85/100],d_loss:0.765466,g_loss:1.862338 D real: 0.741797,D fake: 0.237897\n",
      "Epoch[85/100],d_loss:0.863027,g_loss:1.375057 D real: 0.682477,D fake: 0.320538\n",
      "Epoch[85/100],d_loss:0.832268,g_loss:1.600545 D real: 0.741855,D fake: 0.269700\n"
     ]
    },
    {
     "name": "stderr",
     "output_type": "stream",
     "text": [
      " 86%|████████▌ | 86/100 [47:12<07:12, 30.90s/it]"
     ]
    },
    {
     "name": "stdout",
     "output_type": "stream",
     "text": [
      "Epoch[86/100],d_loss:0.937845,g_loss:2.103812 D real: 0.612072,D fake: 0.184010\n",
      "Epoch[86/100],d_loss:0.938547,g_loss:1.743606 D real: 0.603153,D fake: 0.241152\n",
      "Epoch[86/100],d_loss:0.860557,g_loss:1.576817 D real: 0.663702,D fake: 0.269670\n",
      "Epoch[86/100],d_loss:0.813172,g_loss:1.580554 D real: 0.682521,D fake: 0.297529\n"
     ]
    },
    {
     "name": "stderr",
     "output_type": "stream",
     "text": [
      " 87%|████████▋ | 87/100 [47:45<06:51, 31.63s/it]"
     ]
    },
    {
     "name": "stdout",
     "output_type": "stream",
     "text": [
      "Epoch[87/100],d_loss:0.635447,g_loss:1.688452 D real: 0.785953,D fake: 0.263535\n",
      "Epoch[87/100],d_loss:0.823028,g_loss:1.539796 D real: 0.753016,D fake: 0.298976\n",
      "Epoch[87/100],d_loss:0.705797,g_loss:1.780712 D real: 0.730213,D fake: 0.249820\n",
      "Epoch[87/100],d_loss:0.798767,g_loss:1.891510 D real: 0.743218,D fake: 0.215184\n"
     ]
    },
    {
     "name": "stderr",
     "output_type": "stream",
     "text": [
      " 88%|████████▊ | 88/100 [48:16<06:15, 31.33s/it]"
     ]
    },
    {
     "name": "stdout",
     "output_type": "stream",
     "text": [
      "Epoch[88/100],d_loss:0.918964,g_loss:1.847425 D real: 0.643436,D fake: 0.236567\n",
      "Epoch[88/100],d_loss:0.843711,g_loss:1.515582 D real: 0.712578,D fake: 0.300683\n",
      "Epoch[88/100],d_loss:0.780175,g_loss:1.537372 D real: 0.761700,D fake: 0.312810\n",
      "Epoch[88/100],d_loss:0.846097,g_loss:1.658105 D real: 0.724309,D fake: 0.277325\n"
     ]
    },
    {
     "name": "stderr",
     "output_type": "stream",
     "text": [
      " 89%|████████▉ | 89/100 [48:47<05:44, 31.36s/it]"
     ]
    },
    {
     "name": "stdout",
     "output_type": "stream",
     "text": [
      "Epoch[89/100],d_loss:0.822582,g_loss:1.844876 D real: 0.789027,D fake: 0.240923\n",
      "Epoch[89/100],d_loss:0.847057,g_loss:1.545920 D real: 0.747936,D fake: 0.281157\n",
      "Epoch[89/100],d_loss:0.956519,g_loss:1.701425 D real: 0.703785,D fake: 0.263016\n",
      "Epoch[89/100],d_loss:0.866780,g_loss:1.897732 D real: 0.816424,D fake: 0.213114\n"
     ]
    },
    {
     "name": "stderr",
     "output_type": "stream",
     "text": [
      " 90%|█████████ | 90/100 [49:20<05:18, 31.85s/it]"
     ]
    },
    {
     "name": "stdout",
     "output_type": "stream",
     "text": [
      "Epoch[90/100],d_loss:0.899972,g_loss:1.909117 D real: 0.679259,D fake: 0.227646\n",
      "Epoch[90/100],d_loss:0.808981,g_loss:1.553333 D real: 0.713190,D fake: 0.284208\n",
      "Epoch[90/100],d_loss:0.687401,g_loss:1.853792 D real: 0.772868,D fake: 0.214428\n",
      "Epoch[90/100],d_loss:0.802320,g_loss:1.687832 D real: 0.711237,D fake: 0.253099\n"
     ]
    },
    {
     "name": "stderr",
     "output_type": "stream",
     "text": [
      " 91%|█████████ | 91/100 [49:53<04:49, 32.15s/it]"
     ]
    },
    {
     "name": "stdout",
     "output_type": "stream",
     "text": [
      "Epoch[91/100],d_loss:0.928567,g_loss:1.667262 D real: 0.719794,D fake: 0.248544\n",
      "Epoch[91/100],d_loss:0.957633,g_loss:1.537211 D real: 0.719616,D fake: 0.276259\n",
      "Epoch[91/100],d_loss:0.906619,g_loss:1.537965 D real: 0.704732,D fake: 0.278396\n",
      "Epoch[91/100],d_loss:0.831265,g_loss:1.887762 D real: 0.764412,D fake: 0.209039\n"
     ]
    },
    {
     "name": "stderr",
     "output_type": "stream",
     "text": [
      " 92%|█████████▏| 92/100 [50:25<04:16, 32.05s/it]"
     ]
    },
    {
     "name": "stdout",
     "output_type": "stream",
     "text": [
      "Epoch[92/100],d_loss:0.803403,g_loss:1.723749 D real: 0.714945,D fake: 0.272489\n",
      "Epoch[92/100],d_loss:0.849053,g_loss:1.556768 D real: 0.734456,D fake: 0.280039\n",
      "Epoch[92/100],d_loss:0.900000,g_loss:1.740324 D real: 0.734073,D fake: 0.262407\n",
      "Epoch[92/100],d_loss:0.745182,g_loss:2.082556 D real: 0.700689,D fake: 0.199073\n"
     ]
    },
    {
     "name": "stderr",
     "output_type": "stream",
     "text": [
      " 93%|█████████▎| 93/100 [50:56<03:41, 31.70s/it]"
     ]
    },
    {
     "name": "stdout",
     "output_type": "stream",
     "text": [
      "Epoch[93/100],d_loss:0.750567,g_loss:1.404684 D real: 0.773515,D fake: 0.334712\n",
      "Epoch[93/100],d_loss:0.790611,g_loss:1.822976 D real: 0.733721,D fake: 0.250059\n",
      "Epoch[93/100],d_loss:0.758524,g_loss:1.763693 D real: 0.775898,D fake: 0.248091\n",
      "Epoch[93/100],d_loss:0.756668,g_loss:1.931170 D real: 0.694528,D fake: 0.207269\n"
     ]
    },
    {
     "name": "stderr",
     "output_type": "stream",
     "text": [
      " 94%|█████████▍| 94/100 [51:28<03:10, 31.68s/it]"
     ]
    },
    {
     "name": "stdout",
     "output_type": "stream",
     "text": [
      "Epoch[94/100],d_loss:0.873440,g_loss:1.769728 D real: 0.752573,D fake: 0.231538\n",
      "Epoch[94/100],d_loss:0.775967,g_loss:1.512832 D real: 0.713475,D fake: 0.297494\n",
      "Epoch[94/100],d_loss:0.828682,g_loss:1.959509 D real: 0.741934,D fake: 0.207946\n",
      "Epoch[94/100],d_loss:0.902574,g_loss:2.184240 D real: 0.741603,D fake: 0.174240\n"
     ]
    },
    {
     "name": "stderr",
     "output_type": "stream",
     "text": [
      " 95%|█████████▌| 95/100 [51:59<02:38, 31.63s/it]"
     ]
    },
    {
     "name": "stdout",
     "output_type": "stream",
     "text": [
      "Epoch[95/100],d_loss:0.865499,g_loss:1.758056 D real: 0.826028,D fake: 0.233018\n",
      "Epoch[95/100],d_loss:0.917219,g_loss:1.475405 D real: 0.676257,D fake: 0.296613\n",
      "Epoch[95/100],d_loss:1.074102,g_loss:1.552967 D real: 0.659225,D fake: 0.292279\n",
      "Epoch[95/100],d_loss:0.833181,g_loss:1.437379 D real: 0.690142,D fake: 0.301500\n"
     ]
    },
    {
     "name": "stderr",
     "output_type": "stream",
     "text": [
      " 96%|█████████▌| 96/100 [52:31<02:07, 31.76s/it]"
     ]
    },
    {
     "name": "stdout",
     "output_type": "stream",
     "text": [
      "Epoch[96/100],d_loss:0.872019,g_loss:1.644204 D real: 0.712606,D fake: 0.260388\n",
      "Epoch[96/100],d_loss:0.853568,g_loss:1.899041 D real: 0.710928,D fake: 0.218160\n",
      "Epoch[96/100],d_loss:0.740644,g_loss:1.796781 D real: 0.760129,D fake: 0.235844\n",
      "Epoch[96/100],d_loss:0.838140,g_loss:1.775360 D real: 0.748176,D fake: 0.244728\n"
     ]
    },
    {
     "name": "stderr",
     "output_type": "stream",
     "text": [
      " 97%|█████████▋| 97/100 [53:04<01:36, 32.04s/it]"
     ]
    },
    {
     "name": "stdout",
     "output_type": "stream",
     "text": [
      "Epoch[97/100],d_loss:0.731687,g_loss:1.911543 D real: 0.792837,D fake: 0.216354\n",
      "Epoch[97/100],d_loss:0.805959,g_loss:2.163493 D real: 0.709545,D fake: 0.170530\n",
      "Epoch[97/100],d_loss:0.827673,g_loss:1.702327 D real: 0.691055,D fake: 0.246976\n",
      "Epoch[97/100],d_loss:0.837892,g_loss:2.009336 D real: 0.700598,D fake: 0.213810\n"
     ]
    },
    {
     "name": "stderr",
     "output_type": "stream",
     "text": [
      " 98%|█████████▊| 98/100 [53:35<01:03, 31.69s/it]"
     ]
    },
    {
     "name": "stdout",
     "output_type": "stream",
     "text": [
      "Epoch[98/100],d_loss:0.693967,g_loss:1.426769 D real: 0.805623,D fake: 0.321001\n",
      "Epoch[98/100],d_loss:0.842177,g_loss:1.683418 D real: 0.707723,D fake: 0.273339\n",
      "Epoch[98/100],d_loss:0.871908,g_loss:1.607235 D real: 0.718410,D fake: 0.265457\n",
      "Epoch[98/100],d_loss:0.705924,g_loss:1.698898 D real: 0.751922,D fake: 0.273065\n"
     ]
    },
    {
     "name": "stderr",
     "output_type": "stream",
     "text": [
      " 99%|█████████▉| 99/100 [54:06<00:31, 31.55s/it]"
     ]
    },
    {
     "name": "stdout",
     "output_type": "stream",
     "text": [
      "Epoch[99/100],d_loss:0.856721,g_loss:1.601435 D real: 0.707706,D fake: 0.273405\n",
      "Epoch[99/100],d_loss:1.000444,g_loss:1.507777 D real: 0.645780,D fake: 0.285567\n",
      "Epoch[99/100],d_loss:0.740998,g_loss:1.669176 D real: 0.759928,D fake: 0.260263\n",
      "Epoch[99/100],d_loss:0.860434,g_loss:1.456508 D real: 0.750482,D fake: 0.320452\n"
     ]
    },
    {
     "name": "stderr",
     "output_type": "stream",
     "text": [
      "100%|██████████| 100/100 [54:38<00:00, 32.79s/it]\n"
     ]
    }
   ],
   "source": [
    "for epoch in tqdm(range(num_epoch)):\n",
    "    for i, (img, _) in enumerate(dataloader): # Since we don't need any labels, we make label be '_'\n",
    "\n",
    "        # =============================== IMAGES =================================\n",
    "        num_img = img.size(0) \n",
    "        img = img.view(num_img, -1) # view()函数作用是将一个多行的Tensor,拼接成一行\n",
    "                                    # 第一个参数是要拼接的tensor,第二个参数是-1\n",
    "        # After view(), the input image will be a vector as 28 * 28 = 782 dimensions\n",
    "        real_img = img.to(device) # the sampled data are real images\n",
    "        # =============================== LABELS =================================\n",
    "        real_label = torch.ones(num_img).view(-1, 1).to(device) # Label of real images is 1\n",
    "        fake_label = torch.zeros(num_img).view(-1, 1).to(device) # label of real images is 0\n",
    "        \n",
    "        # ========================= D: Forward and Loss ==========================\n",
    "        \n",
    "        real_out = D(real_img)\n",
    "        d_loss_real = criterion(real_out, real_label) # TODO: criterion\n",
    "        \n",
    "        z = torch.randn(num_img, z_dimension).to(device)\n",
    "\n",
    "        fake_img = G(z)\n",
    "        fake_out = D(fake_img)\n",
    "        d_loss_fake = criterion(fake_out, fake_label)\n",
    "        \n",
    "        d_loss = d_loss_real + d_loss_fake\n",
    "        d_optimizer.zero_grad() # before back propagation\n",
    "        d_loss.backward()\n",
    "        d_optimizer.step()\n",
    "        \n",
    "        # =============== G ========================\n",
    "        # To fool the Discriminator, we want G's fake output can get 'real' pridection\n",
    "        z = torch.randn(num_img, z_dimension).to(device)\n",
    "        fake_img = G(z)\n",
    "        fake_out = D(fake_img)\n",
    "        g_loss = criterion(fake_out, real_label)\n",
    "        \n",
    "        g_optimizer.zero_grad()\n",
    "        g_loss.backward()\n",
    "        g_optimizer.step()\n",
    "        \n",
    "        # ============= Visualization ===============\n",
    "        if (i+1)%100 == 0:\n",
    "            print('Epoch[{}/{}],d_loss:{:.6f},g_loss:{:.6f} '\n",
    "                  'D real: {:.6f},D fake: {:.6f}'.format(\n",
    "                epoch,num_epoch,d_loss.item(),g_loss.item(),\n",
    "                real_out.data.mean(),fake_out.data.mean()  #打印的是真实图片的损失均值\n",
    "            ))\n",
    "        \n",
    "    if epoch == 0:\n",
    "        real_images = to_gray_img(real_img.cpu().data)\n",
    "        save_image(real_images, '../img/real_images.png')\n",
    " \n",
    "    fake_images = to_gray_img(fake_img.cpu().data)\n",
    "    save_image(fake_images, '../img/fake_images-{}.png'.format(epoch+1))"
   ]
  },
  {
   "cell_type": "raw",
   "metadata": {},
   "source": [
    "# 实际上跑了100轮之后也不是很好看\n"
   ]
  },
  {
   "cell_type": "markdown",
   "metadata": {},
   "source": [
    "# Debug 专区"
   ]
  },
  {
   "cell_type": "code",
   "execution_count": 19,
   "metadata": {},
   "outputs": [
    {
     "name": "stdout",
     "output_type": "stream",
     "text": [
      "torch.Size([128, 1])\n"
     ]
    }
   ],
   "source": [
    "print(real_out.size())"
   ]
  },
  {
   "cell_type": "code",
   "execution_count": null,
   "metadata": {},
   "outputs": [],
   "source": [
    "torch.save(G.state_dict(),'./generator.pth')\n",
    "torch.save(D.state_dict(),'./discriminator.pth')"
   ]
  }
 ],
 "metadata": {
  "kernelspec": {
   "display_name": "Python 3",
   "language": "python",
   "name": "python3"
  },
  "language_info": {
   "codemirror_mode": {
    "name": "ipython",
    "version": 3
   },
   "file_extension": ".py",
   "mimetype": "text/x-python",
   "name": "python",
   "nbconvert_exporter": "python",
   "pygments_lexer": "ipython3",
   "version": "3.8.5"
  }
 },
 "nbformat": 4,
 "nbformat_minor": 4
}
